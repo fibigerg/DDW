{
 "metadata": {
  "name": "",
  "signature": "sha256:b0fab2fa6e6a8d4b2b1f96dd37b674bda15a2eb693ca45d3306fc77ae6c1d607"
 },
 "nbformat": 3,
 "nbformat_minor": 0,
 "worksheets": [
  {
   "cells": [
    {
     "cell_type": "code",
     "collapsed": false,
     "input": [
      "import nltk\n",
      "import urllib2\n",
      "from pprint import pprint\n",
      "import re\n",
      "import scrapy\n",
      "from scrapy.selector import Selector\n",
      "from scrapy.http import HtmlResponse"
     ],
     "language": "python",
     "metadata": {},
     "outputs": [],
     "prompt_number": 1
    },
    {
     "cell_type": "code",
     "collapsed": false,
     "input": [
      "from HTMLParser import HTMLParser\n",
      "\n",
      "class MLStripper(HTMLParser):\n",
      "    def __init__(self):\n",
      "        self.reset()\n",
      "        self.fed = []\n",
      "    def handle_data(self, d):\n",
      "        self.fed.append(d)\n",
      "    def get_data(self):\n",
      "        return ''.join(self.fed)\n",
      "\n",
      "def strip_tags(html):\n",
      "    s = MLStripper()\n",
      "    s.feed(html)\n",
      "    return s.get_data()\n",
      "\n",
      "def getNouns(arr):\n",
      "    return [x for x in arr if 'NN' in x[1]]\n",
      "\n",
      "def stripTags(arr):\n",
      "    for i, v in enumerate(arr):\n",
      "            arr[i] = strip_tags(v)"
     ],
     "language": "python",
     "metadata": {},
     "outputs": [],
     "prompt_number": 2
    },
    {
     "cell_type": "code",
     "collapsed": false,
     "input": [
      "response = urllib2.urlopen('http://www.mgcgroup.cz/en/management')\n",
      "html = response.read()"
     ],
     "language": "python",
     "metadata": {},
     "outputs": [],
     "prompt_number": 3
    },
    {
     "cell_type": "code",
     "collapsed": false,
     "input": [
      "ttitle = Selector(text=html).xpath('//title/text()').extract()\n",
      "th1 = Selector(text=html).xpath('//div/h1').extract()\n",
      "th2 = Selector(text=html).xpath('//div/h2').extract()\n",
      "th3 = Selector(text=html).xpath('//div/h3').extract()\n",
      "th4 = Selector(text=html).xpath('//div/h4').extract()"
     ],
     "language": "python",
     "metadata": {},
     "outputs": [],
     "prompt_number": 4
    },
    {
     "cell_type": "code",
     "collapsed": false,
     "input": [
      "tp = Selector(text=html).xpath('//p').extract()\n",
      "tdiv = Selector(text=html).xpath('//div/text()').extract()"
     ],
     "language": "python",
     "metadata": {},
     "outputs": [],
     "prompt_number": 5
    },
    {
     "cell_type": "code",
     "collapsed": false,
     "input": [
      "stripTags(th1)\n",
      "stripTags(th2)\n",
      "stripTags(th3)\n",
      "stripTags(th4)\n",
      "stripTags(tp)\n",
      "stripTags(tdiv)"
     ],
     "language": "python",
     "metadata": {},
     "outputs": [],
     "prompt_number": 6
    },
    {
     "cell_type": "code",
     "collapsed": false,
     "input": [
      "tli = Selector(text=html).xpath('//li').extract()\n",
      "\n",
      "# Remove menu items\n",
      "RegxStripAnchors = re.compile(r'</?[aA].*\\>[^>]*/?>', re.DOTALL)\n",
      "RegxWhiteSpace = re.compile(r'\\S')\n",
      "def removeMenuItems(x):\n",
      "    substituted = re.sub(RegxStripAnchors, '', x)\n",
      "    striped_tags = strip_tags(substituted)\n",
      "    if re.search(RegxWhiteSpace, striped_tags):\n",
      "        return x\n",
      "    else:\n",
      "        return ''\n",
      "    \n",
      "tli = map(lambda x: removeMenuItems(x), tli)\n",
      "stripTags(tli)"
     ],
     "language": "python",
     "metadata": {},
     "outputs": [],
     "prompt_number": 7
    },
    {
     "cell_type": "code",
     "collapsed": false,
     "input": [
      "#\u00a0Combine arrays\n",
      "text = th1 + th2 + th3 + th4 + tp + tli + tdiv \n",
      "text = [x for x in text if re.search(RegxWhiteSpace, x)]\n",
      "text = '. '.join(text)\n",
      "text"
     ],
     "language": "python",
     "metadata": {},
     "outputs": [
      {
       "metadata": {},
       "output_type": "pyout",
       "prompt_number": 8,
       "text": [
        "u'Management. ANALYSIS of potential. BASIC program:. ADDITIONAL program:. IMPLEMENTATION in practice / ON-THE-JOB methods. Actual topics always depend on the management level and your concrete needs. . Specialised Development Centres Aimed at Different Levels of Management. Screening for Managers. Shadowing at Meetings. Manager Academy (a complex development program for managers at various levels). Manager\\u2019s Personality and Communication. Psychology of Communication. Delegation and Reverse Delegation. Control and Feedback. Annual Assessment. Building and Managing a Team and Team Dynamics. Strategic Management, Management of Changes and Risks. Decision Making Processes. Financial Management. Marketing for Managers. Mentoring. Coaching Techniques. Introducing and Working with KPI`s. Etiquette. Basics of Rhetoric Skills. Assertiveness. Project Management. Remote Management. Time Management and Workflow. Labour Law for Managers. Presentation Skills and effective Communication. Effective Communication. Czech for Managers. Management Workshops. Shadowing. Supervision. Coaching / Consultation. \\n              2015 \\xa9 MgC Group'"
       ]
      }
     ],
     "prompt_number": 8
    },
    {
     "cell_type": "code",
     "collapsed": false,
     "input": [
      "tokens = nltk.word_tokenize(text)\n",
      "tagged = nltk.pos_tag(tokens)"
     ],
     "language": "python",
     "metadata": {},
     "outputs": [],
     "prompt_number": 9
    },
    {
     "cell_type": "code",
     "collapsed": false,
     "input": [
      "nouns = getNouns(tagged)\n",
      "nounsFreq = nltk.FreqDist(word for (word, tag) in nouns)\n",
      "nounsFreqTop = nounsFreq.most_common(25)"
     ],
     "language": "python",
     "metadata": {},
     "outputs": [],
     "prompt_number": 10
    },
    {
     "cell_type": "code",
     "collapsed": false,
     "input": [
      "ta = Selector(text=html).xpath('//a').extract()\n",
      "links = []\n",
      "RegxAnchor = re.compile(r'<?[aA].*href=\"([^\"]+)\".*\\>([^>]*)</a>', re.DOTALL);\n",
      "for a in ta:\n",
      "    matches = re.search(RegxAnchor, a)\n",
      "    if (matches):\n",
      "        links.append((matches.group(1), matches.group(2))) "
     ],
     "language": "python",
     "metadata": {},
     "outputs": [],
     "prompt_number": 35
    },
    {
     "cell_type": "code",
     "collapsed": false,
     "input": [
      "def printList(arr, **kwargs):\n",
      "    label = kwargs.get('label', None)\n",
      "    ofset = kwargs.get('ofset', 0)\n",
      "    print '   '*ofset,label\n",
      "    for v in arr:\n",
      "        print '   '*(ofset+1), '- ',v\n",
      "    return\n",
      "\n",
      "print 'Title:'\n",
      "print '   - ', ttitle[0]\n",
      "print '\\n'\n",
      "\n",
      "print 'Headlines:'\n",
      "printList(th1, label='H1:', ofset=1)\n",
      "printList(th2, label='H2:', ofset=1)\n",
      "printList(th3, label='H3:', ofset=1)\n",
      "printList(th3, label='H4:', ofset=1)\n",
      "print '\\n'\n",
      "\n",
      "print 'Nouns (',len(nouns),'):'\n",
      "for word, count in nounsFreqTop:\n",
      "    print '  ', count, '\\t', word\n",
      "print '\\n'\n",
      "\n",
      "print 'Links (',len(links),'):'\n",
      "for url, title in links:\n",
      "    print '   - ', url.ljust(70), title\n",
      "print '\\n'"
     ],
     "language": "python",
     "metadata": {},
     "outputs": [
      {
       "output_type": "stream",
       "stream": "stdout",
       "text": [
        "Title:\n",
        "   -  Management | MgC Group\n",
        "\n",
        "\n",
        "Headlines:\n",
        "    H1:\n",
        "       -  Management\n",
        "    H2:\n",
        "       -  ANALYSIS of potential\n",
        "       -  BASIC program:\n",
        "       -  ADDITIONAL program:\n",
        "       -  IMPLEMENTATION in practice / ON-THE-JOB methods\n",
        "    H3:\n",
        "    H4:\n",
        "\n",
        "\n",
        "Nouns ( 94 ):\n",
        "   9 \tManagement\n",
        "   4 \tCommunication\n",
        "   4 \tManagers\n",
        "   3 \tprogram\n",
        "   2 \tShadowing\n",
        "   2 \tTeam\n",
        "   2 \tCoaching\n",
        "   2 \tSkills\n",
        "   2 \tDelegation\n",
        "   1 \tMgC\n",
        "   1 \tDifferent\n",
        "   1 \tmanagers\n",
        "   1 \tWorking\n",
        "   1 \tManaging\n",
        "   1 \tTime\n",
        "   1 \ttopics\n",
        "   1 \tRhetoric\n",
        "   1 \tWorkshops\n",
        "   1 \tBasics\n",
        "   1 \tPsychology\n",
        "   1 \tScreening\n",
        "   1 \tBASIC\n",
        "   1 \tRemote\n",
        "   1 \tAssessment\n",
        "   1 \tmethods\n",
        "\n",
        "\n",
        "Links ( 25 ):\n",
        "   -  #main-content                                                          Skip to main content\n",
        "   -  /en                                                                    \n",
        "          \n",
        "   -  /en/automotive-industry                                                automotive\n",
        "   -  /en/assessment-and-development-centres                                 ac/dc\n",
        "   -  /en/back-office                                                        Back office\n",
        "   -  /en/coaching                                                           Coaching\n",
        "   -  /en/human-resources                                                    Human resources\n",
        "   -  /en/customer-services                                                  Customer services\n",
        "   -  /en/house-trainers                                                     In-house Trainers\n",
        "   -  /en/management                                                         Management\n",
        "   -  /en/marketing                                                          Marketing\n",
        "   -  /en/memory-and-cognitive-function-training                             Memory training\n",
        "   -  /en/job-metody                                                         On\u00a0job\u00a0metody\n",
        "   -  /en/production                                                         Production\n",
        "   -  /en/salle-skills                                                       Salle skills\n",
        "   -  /en/specialised-trainings                                              Specialised trainings\n",
        "   -  /management                                                            \u010ce\u0161tina\n",
        "   -  /en/management                                                         English\n",
        "   -  /en                                                                    About us\n",
        "   -  /en/products-and-services                                              Products and Services\n",
        "   -  /en/measuring-efficiency-development                                   Measuring the efficiency\n",
        "   -  /en/references                                                         References\n",
        "   -  /en/contact                                                            Contact\n",
        "   -  https://twitter.com/mgcgroupcz                                         \n",
        "   -  http://www.garyfibiger.cz/                                             Gary Fibiger\n",
        "\n",
        "\n"
       ]
      }
     ],
     "prompt_number": 41
    }
   ],
   "metadata": {}
  }
 ]
}